{
  "nbformat": 4,
  "nbformat_minor": 0,
  "metadata": {
    "colab": {
      "provenance": [],
      "include_colab_link": true
    },
    "kernelspec": {
      "name": "python3",
      "display_name": "Python 3"
    },
    "language_info": {
      "name": "python"
    }
  },
  "cells": [
    {
      "cell_type": "markdown",
      "metadata": {
        "id": "view-in-github",
        "colab_type": "text"
      },
      "source": [
        "<a href=\"https://colab.research.google.com/github/pitonic/AWS-Demos/blob/master/lab05/5_%D0%A4%D1%83%D0%BD%D0%BA%D1%86%D0%B8%D0%B8_%D0%B8_%D0%BC%D0%BE%D0%B4%D1%83%D0%BB%D0%B8_%D0%94%D0%97_Lite_%7C_%D0%A3%D0%98%D0%98.ipynb\" target=\"_parent\"><img src=\"https://colab.research.google.com/assets/colab-badge.svg\" alt=\"Open In Colab\"/></a>"
      ]
    },
    {
      "cell_type": "markdown",
      "source": [
        "**<h2>Задание 1**\n",
        "\n",
        "Напишите программу, которая будет:\n",
        "\n",
        "1) находить самое длинное слово в заданной строке.\n",
        "\n",
        "2) сколько вообще слов\n",
        "\n",
        "3) Получить индекс слова \"сервер\" и сколько раз оно встречается в строке\n",
        "\n",
        "```\n",
        "text = \"Начнем с процесса регистрации. Перед вами форма с несколькими полями: Имя, Логин, Пароль, Кличка вашей собаки. Вы покорно заполняете все поля со звездочками, после чего жмякаете на кнопку 'Зарегистрироваться'. Ваши данные отправляются на сервер при помощи HTTP, сервер создает в базе данных новую запись, и если все проходит успешно, то вы зарегистрировались в системе. То есть процесс регистрации – это просто сохранение на сервере 'в определенном текстовом файле' данных, которые вы заполнили на сайте.\"\n",
        "```\n",
        "\n",
        "Вывод должен быть таким:\n",
        "\n",
        "1 - Самое длинное слово: ....\n",
        "\n",
        "2 - Количество слов в тексте: ....\n",
        "\n",
        "3 - Индекс слова \"сервер\": .....; Встречается в тексте: .... раз."
      ],
      "metadata": {
        "id": "OyIKLA9dcBYI"
      }
    },
    {
      "cell_type": "code",
      "execution_count": null,
      "metadata": {
        "id": "hgIaUGoFb15E",
        "colab": {
          "base_uri": "https://localhost:8080/"
        },
        "outputId": "c3779b03-8965-4c7b-cd22-790a29ffcba7"
      },
      "outputs": [
        {
          "output_type": "stream",
          "name": "stdout",
          "text": [
            "1 - Самое длинное слово: 'Зарегистрироваться'.\n",
            "2 - Количество слов в тексте: 74\n",
            "3 - Индекс слова 'сервер': 238; Встречается в тексте: 3 раз.\n"
          ]
        }
      ],
      "source": [
        "text = \"Начнем с процесса регистрации. Перед вами форма с несколькими полями: Имя, Логин, Пароль, Кличка вашей собаки. Вы покорно заполняете все поля со звездочками, после чего жмякаете на кнопку 'Зарегистрироваться'. Ваши данные отправляются на сервер при помощи HTTP, сервер создает в базе данных новую запись, и если все проходит успешно, то вы зарегистрировались в системе. То есть процесс регистрации – это просто сохранение на сервере 'в определенном текстовом файле' данных, которые вы заполнили на сайте.\"\n",
        "# Ваше решение\n",
        "\n",
        "# 1. Находим самое длинное слово\n",
        "words = text.split()\n",
        "longest_word = max(words, key=len)\n",
        "print(f\"1 - Самое длинное слово: {longest_word}\")\n",
        "\n",
        "# 2. Считаем количество слов\n",
        "word_count = len(words)\n",
        "print(f\"2 - Количество слов в тексте: {word_count}\")\n",
        "\n",
        "# 3. Находим индекс слова \"сервер\" и сколько раз оно встречается\n",
        "server_count = text.count(\"сервер\")\n",
        "server_index = text.find(\"сервер\")\n",
        "print(f\"3 - Индекс слова 'сервер': {server_index}; Встречается в тексте: {server_count} раз.\")\n"
      ]
    },
    {
      "cell_type": "markdown",
      "source": [
        "**<h2>Задание 2**\n",
        "\n",
        "Создайте функцию \"list_expert()\", которая будет принимать неограниченное количество параметров и если передали числа, то вернуть их сумму, а если есть другие типы, то вывети списком их типы. Но если ввести 1 параметр, то его же и вывести.\n",
        "\n",
        "Вывод:\n",
        "```\n",
        "list_expert(1,2,3,4,5)  # 15\n",
        "list_expert(\"a\", True, [1, 2, 3])  # ['str', 'bool', 'list']\n",
        "list_expert(\"obj\")  # obj\n",
        "```"
      ],
      "metadata": {
        "id": "BEAR9-oNeJ4w"
      }
    },
    {
      "cell_type": "code",
      "source": [
        "# Ваше решение\n",
        "\n",
        "def list_expert(*args):\n",
        "    # Если передан только один параметр, возвращаем его\n",
        "    if len(args) == 1:\n",
        "        return args[0]\n",
        "\n",
        "    # Инициализируем переменные для суммы и списка типов\n",
        "    total_sum = 0\n",
        "    types_list = []\n",
        "\n",
        "    # Проходим по всем переданным параметрам\n",
        "    for arg in args:\n",
        "        if isinstance(arg, (int, float)):\n",
        "            total_sum += arg\n",
        "        else:\n",
        "            types_list.append(type(arg).__name__)\n",
        "\n",
        "    # Если были только числа, возвращаем их сумму\n",
        "    if total_sum != 0 or (total_sum == 0 and not types_list):\n",
        "        return total_sum\n",
        "\n",
        "    # Если были другие типы, возвращаем список их типов\n",
        "    return types_list\n",
        "\n",
        "# Примеры вызова функции\n",
        "print(list_expert(1, 2, 3, 4, 5))  # 15\n",
        "print(list_expert(\"a\", True, [1, 2, 3]))  # ['str', 'bool', 'list']\n",
        "print(list_expert(\"obj\"))  # obj\n",
        "print(list_expert(0, 0, 0))  # 0"
      ],
      "metadata": {
        "id": "af0up28aelZD",
        "colab": {
          "base_uri": "https://localhost:8080/"
        },
        "outputId": "b9a85a42-f487-4948-935f-41186b185203"
      },
      "execution_count": 7,
      "outputs": [
        {
          "output_type": "stream",
          "name": "stdout",
          "text": [
            "15\n",
            "1\n",
            "obj\n",
            "0\n"
          ]
        }
      ]
    },
    {
      "cell_type": "markdown",
      "source": [
        "**<h2>Задание 3**\n",
        "\n",
        "Допишите функцию из 2-го задания, чтобы, когда не передали вообще параметров, то она вернет строку \"Пустая функция\"."
      ],
      "metadata": {
        "id": "ot6hLxIjffmX"
      }
    },
    {
      "cell_type": "code",
      "source": [
        "# Ваше решение\n",
        "\n",
        "def list_expert(*args):\n",
        "    # Если не передано ни одного параметра, возвращаем строку \"Пустая функция\"\n",
        "    if len(args) == 0:\n",
        "        return \"Пустая функция\"\n",
        "\n",
        "    # Если передан только один параметр, возвращаем его\n",
        "    if len(args) == 1:\n",
        "        return args[0]\n",
        "\n",
        "    # Инициализируем переменные для суммы и списка типов\n",
        "    total_sum = 0\n",
        "    types_list = []\n",
        "\n",
        "    # Проходим по всем переданным параметрам\n",
        "    for arg in args:\n",
        "        if isinstance(arg, (int, float)):\n",
        "            total_sum += arg\n",
        "        else:\n",
        "            types_list.append(type(arg).__name__)\n",
        "\n",
        "    # Если были только числа, возвращаем их сумму\n",
        "    if total_sum > 0 and not types_list:\n",
        "        return total_sum\n",
        "\n",
        "    # Если были другие типы, возвращаем список их типов\n",
        "    return types_list\n",
        "\n",
        "# Примеры вызова функции\n",
        "print(list_expert())  # Пустая функция\n",
        "print(list_expert(1, 2, 3, 4, 5))  # 15\n",
        "print(list_expert(\"a\", True, [1, 2, 3]))  # ['str', 'bool', 'list']\n",
        "print(list_expert(\"obj\"))  # obj"
      ],
      "metadata": {
        "id": "dXWUFTkxfxym",
        "colab": {
          "base_uri": "https://localhost:8080/"
        },
        "outputId": "9e5fc05a-17f5-4603-d67d-61728645eb05"
      },
      "execution_count": null,
      "outputs": [
        {
          "output_type": "stream",
          "name": "stdout",
          "text": [
            "Пустая функция\n",
            "15\n",
            "['str', 'list']\n",
            "obj\n"
          ]
        }
      ]
    },
    {
      "cell_type": "markdown",
      "source": [
        "**<h2>Задание 4**\n",
        "\n",
        "Создайте функцию \"random_numbers()\", которая будет формировать список случайных чисел и принимать 3 параметра:\n",
        "\n",
        "1) число повторений (сколько чисел будет в списке)\n",
        "\n",
        "2) количество знаков после запятой\n",
        "\n",
        "3) сортировать или нет (со значением по умолчанию)\n",
        "\n",
        "Написать декоратор для этой функции, который будет выводить параметры этой функции."
      ],
      "metadata": {
        "id": "1ka5b6Xaf801"
      }
    },
    {
      "cell_type": "code",
      "source": [
        "# Ваше решение\n",
        "\n",
        "import random\n",
        "import functools\n",
        "\n",
        "# Декоратор для вывода параметров функции\n",
        "def print_params(func):\n",
        "    @functools.wraps(func)\n",
        "    def wrapper(*args, **kwargs):\n",
        "        print(f\"Параметры функции: {args}, {kwargs}\")\n",
        "        return func(*args, **kwargs)\n",
        "    return wrapper\n",
        "\n",
        "# Функция для генерации списка случайных чисел\n",
        "@print_params\n",
        "def random_numbers(num_repetitions, num_decimals, sort_list=False):\n",
        "    # Генерируем список случайных чисел\n",
        "    numbers = [round(random.uniform(0, 1), num_decimals) for _ in range(num_repetitions)]\n",
        "\n",
        "    # Сортируем список, если это указано\n",
        "    if sort_list:\n",
        "        numbers.sort()\n",
        "\n",
        "    return numbers\n",
        "\n",
        "# Примеры вызова функции\n",
        "print(random_numbers(5, 2))  # Параметры функции: (5, 2), {'sort_list': False}\n",
        "print(random_numbers(5, 2, sort_list=True))  # Параметры функции: (5, 2), {'sort_list': True}\n",
        "\n"
      ],
      "metadata": {
        "id": "g6GlvYFcgyDA",
        "colab": {
          "base_uri": "https://localhost:8080/"
        },
        "outputId": "ed995f3d-fb4a-4220-f162-d5c23dde1bd7"
      },
      "execution_count": null,
      "outputs": [
        {
          "output_type": "stream",
          "name": "stdout",
          "text": [
            "Параметры функции: (5, 2), {}\n",
            "[0.85, 0.09, 0.73, 0.15, 0.97]\n",
            "Параметры функции: (5, 2), {'sort_list': True}\n",
            "[0.48, 0.52, 0.55, 0.64, 0.68]\n"
          ]
        }
      ]
    },
    {
      "cell_type": "markdown",
      "source": [
        "**<h2>Задание 5**\n",
        "\n",
        "С помощью функции \"map()\" переделайте список имен, чтобы они начинались с заглавной буквы, остальные маленькие, а также убрать числа из имен.\n",
        "\n",
        "Примечание. Примените встроенную функцию map() и регулярное выражение\n",
        "\n",
        "```\n",
        "names = [\"МиХ3аИл\", \"1юРИ7Й\", \"тАт4Ь6яНа\", \"м5ар1ГО\", \"в4арВ3АРа\"]\n",
        "```"
      ],
      "metadata": {
        "id": "2yLzaKMbhey2"
      }
    },
    {
      "cell_type": "code",
      "source": [
        "\n",
        "# Ваше решение\n",
        "\n",
        "import re\n",
        "\n",
        "# Исходный список имен\n",
        "names = [\"МиХ3аИл\", \"1юРИ7Й\", \"тАт4Ь6яНа\", \"м5ар1ГО\", \"в4арВ3АРа\"]\n",
        "\n",
        "# Функция для преобразования имени\n",
        "def normalize_name(name):\n",
        "    # Удаляем все цифры из имени\n",
        "    name = re.sub(r'\\d', '', name)\n",
        "    # Делаем первую букву заглавной, а остальные маленькими\n",
        "    return name.capitalize()\n",
        "\n",
        "# Применяем функцию normalize_name к каждому имени в списке с помощью map()\n",
        "normalized_names = list(map(normalize_name, names))\n",
        "\n",
        "# Выводим результат\n",
        "print(normalized_names)"
      ],
      "metadata": {
        "id": "PS7_dHBxiIT2",
        "colab": {
          "base_uri": "https://localhost:8080/"
        },
        "outputId": "29a70a97-791a-4d24-8119-07dc9d9261b7"
      },
      "execution_count": null,
      "outputs": [
        {
          "output_type": "stream",
          "name": "stdout",
          "text": [
            "['Михаил', 'Юрий', 'Татьяна', 'Марго', 'Варвара']\n"
          ]
        }
      ]
    }
  ]
}